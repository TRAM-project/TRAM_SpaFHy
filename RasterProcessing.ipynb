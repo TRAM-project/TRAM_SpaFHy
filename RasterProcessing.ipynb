{
 "cells": [
  {
   "cell_type": "markdown",
   "id": "61f33029",
   "metadata": {},
   "source": [
    "# Notebook for preprocessing and visualizing spatial rasters\n",
    "Samuli Launiainen 18.2.2022-->"
   ]
  },
  {
   "cell_type": "code",
   "execution_count": 49,
   "id": "7792a7f8",
   "metadata": {},
   "outputs": [
    {
     "name": "stdout",
     "output_type": "stream",
     "text": [
      "Using matplotlib backend: Qt5Agg\n"
     ]
    }
   ],
   "source": [
    "%matplotlib\n",
    "import matplotlib.pyplot as plt\n",
    "import rasterio\n",
    "from rasterio.plot import show\n",
    "import os\n",
    "from pathlib import Path\n",
    "import numpy as np\n",
    "from PIL import Image\n",
    "from raster_utils import convert_peruskarttarasteri, show_raster, window_from_extent, read_pkrasteri_for_extent\n"
   ]
  },
  {
   "cell_type": "markdown",
   "id": "df08a7ef",
   "metadata": {},
   "source": [
    "Convert peruskarttarasteri from P-image to RGB, save as geotiff"
   ]
  },
  {
   "cell_type": "code",
   "execution_count": 1,
   "id": "430afd10",
   "metadata": {},
   "outputs": [
    {
     "name": "stdout",
     "output_type": "stream",
     "text": [
      "c:\\projects\\tram\\data\\pkrasteri\\L4113L.png\n",
      "{'driver': 'PNG', 'dtype': 'uint8', 'nodata': None, 'width': 12000, 'height': 12000, 'count': 1, 'crs': CRS.from_epsg(3067), 'transform': Affine(1.0, 0.0, 332000.0,\n",
      "       0.0, -1.0, 6678000.0)}\n"
     ]
    },
    {
     "name": "stderr",
     "output_type": "stream",
     "text": [
      "C:\\Users\\03081268\\Anaconda3\\envs\\geo-python-student\\lib\\site-packages\\PIL\\Image.py:2918: DecompressionBombWarning: Image size (144000000 pixels) exceeds limit of 89478485 pixels, could be decompression bomb DOS attack.\n",
      "  warnings.warn(\n"
     ]
    },
    {
     "name": "stdout",
     "output_type": "stream",
     "text": [
      "writing...\n",
      "c:\\projects\\tram\\data\\pkrasteri\\L4113R.png\n",
      "{'driver': 'PNG', 'dtype': 'uint8', 'nodata': None, 'width': 12000, 'height': 12000, 'count': 1, 'crs': CRS.from_epsg(3067), 'transform': Affine(1.0, 0.0, 344000.0,\n",
      "       0.0, -1.0, 6678000.0)}\n",
      "writing...\n",
      "c:\\projects\\tram\\data\\pkrasteri\\L4114L.png\n",
      "{'driver': 'PNG', 'dtype': 'uint8', 'nodata': None, 'width': 12000, 'height': 12000, 'count': 1, 'crs': CRS.from_epsg(3067), 'transform': Affine(1.0, 0.0, 332000.0,\n",
      "       0.0, -1.0, 6690000.0)}\n",
      "writing...\n",
      "c:\\projects\\tram\\data\\pkrasteri\\L4114R.png\n",
      "{'driver': 'PNG', 'dtype': 'uint8', 'nodata': None, 'width': 12000, 'height': 12000, 'count': 1, 'crs': CRS.from_epsg(3067), 'transform': Affine(1.0, 0.0, 344000.0,\n",
      "       0.0, -1.0, 6690000.0)}\n",
      "writing...\n",
      "c:\\projects\\tram\\data\\pkrasteri\\L4123L.png\n",
      "{'driver': 'PNG', 'dtype': 'uint8', 'nodata': None, 'width': 12000, 'height': 12000, 'count': 1, 'crs': CRS.from_epsg(3067), 'transform': Affine(1.0, 0.0, 332000.0,\n",
      "       0.0, -1.0, 6702000.0)}\n",
      "writing...\n"
     ]
    }
   ],
   "source": [
    "\n",
    "# Data dir\n",
    "data_dir = r\"c:\\projects\\tram\\data\\pkrasteri\"\n",
    "\n",
    "fps = list(Path(data_dir).glob('*.png'))\n",
    "\n",
    "# convert png to geotiff\n",
    "outfiles = []\n",
    "for fp in fps:\n",
    "    print(fp)\n",
    "    f = convert_peruskarttarasteri(str(fp), epsg_code='3067')\n",
    "    outfiles.append(f)\n",
    "\n",
    "del f"
   ]
  },
  {
   "cell_type": "markdown",
   "id": "d67d0fab",
   "metadata": {},
   "source": [
    "Read asciigrid 'twi'. define bounding box, read peruskartta and plot raster overlay."
   ]
  },
  {
   "cell_type": "code",
   "execution_count": 55,
   "id": "6d656b4d",
   "metadata": {},
   "outputs": [
    {
     "name": "stdout",
     "output_type": "stream",
     "text": [
      "{'driver': 'AAIGrid', 'dtype': 'float32', 'nodata': -9999.0, 'width': 90, 'height': 82, 'count': 1, 'crs': None, 'transform': Affine(16.0, 0.0, 340160.0,\n",
      "       0.0, -16.0, 6693152.0)}\n",
      "BoundingBox(left=340160.0, bottom=6691840.0, right=341600.0, top=6693152.0)\n",
      "BoundingBox(left=340160.0, bottom=6691840.0, right=341600.0, top=6693152.0)\n",
      "[0. 1.]\n"
     ]
    }
   ],
   "source": [
    "f = r\"c:\\repositories\\SpaFHy_wetnessdemo\\temp\\twi.asc\"\n",
    "\n",
    "r = rasterio.open(f, 'r')\n",
    "print(r.meta)\n",
    "print(r.bounds)\n",
    "# bbox to read peruskarttarasteri for extent of ascii-grids\n",
    "bbox = r.bounds\n",
    "print(bbox)\n",
    "twi = r.read()\n",
    "\n",
    "# read nodata mask\n",
    "mask = r.read_masks(1)\n",
    "mask = mask / 255\n",
    "print(np.unique(mask))\n",
    "mask[np.where(mask==0)] = np.NaN\n"
   ]
  },
  {
   "cell_type": "code",
   "execution_count": 57,
   "id": "0af071c8",
   "metadata": {},
   "outputs": [],
   "source": [
    "f = r\"c:\\projects\\tram\\data\\pkrasteri\\L4123L.tif\"\n",
    "\n",
    "pk, meta = read_pkrasteri_for_extent(f, bbox, showfig=False)\n",
    "\n",
    "# show raster overlay\n",
    "plt.close('all')\n",
    "\n",
    "fig1, ax1 = plt.subplots(1,)\n",
    "show(pk, transform=meta['transform'], ax=ax1)\n",
    "show(twi * mask, transform=r.transform, ax=ax1, alpha=0.5, vmin=5., vmax=10.0)\n",
    "plt.show()"
   ]
  },
  {
   "cell_type": "code",
   "execution_count": 59,
   "id": "ac2077d2",
   "metadata": {},
   "outputs": [
    {
     "name": "stdout",
     "output_type": "stream",
     "text": [
      "{'driver': 'AAIGrid', 'dtype': 'float32', 'nodata': -9999.0, 'width': 90, 'height': 82, 'count': 1, 'crs': None, 'transform': Affine(16.0, 0.0, 340160.0,\n",
      "       0.0, -16.0, 6693152.0)}\n",
      "BoundingBox(left=340160.0, bottom=6691840.0, right=341600.0, top=6693152.0)\n",
      "BoundingBox(left=340160.0, bottom=6691840.0, right=341600.0, top=6693152.0)\n"
     ]
    },
    {
     "data": {
      "text/plain": [
       "<matplotlib.image.AxesImage at 0x19629159af0>"
      ]
     },
     "execution_count": 59,
     "metadata": {},
     "output_type": "execute_result"
    }
   ],
   "source": [
    "f = r\"c:\\repositories\\SpaFHy_wetnessdemo\\temp\\mask_updated.asc\"\n",
    "\n",
    "r = rasterio.open(f, 'r')\n",
    "print(r.meta)\n",
    "print(r.bounds)\n",
    "# bbox to read peruskarttarasteri for extent of ascii-grids\n",
    "bbox = r.bounds\n",
    "print(bbox)\n",
    "cmask = r.read()\n",
    "plt.figure()\n",
    "plt.imshow(cmask[0,:,:])\n",
    "#show(twi * mask, transform=r.transform, ax=ax1, alpha=0.5, vmin=5., vmax=10.0)\n",
    "# read nodata mask\n",
    "#mask = r.read_masks(1)\n",
    "#mask = mask / 255\n",
    "#print(np.unique(mask))\n",
    "#mask[np.where(mask==0)] = np.NaN\n"
   ]
  },
  {
   "cell_type": "code",
   "execution_count": 37,
   "id": "567c7c73",
   "metadata": {},
   "outputs": [
    {
     "name": "stdout",
     "output_type": "stream",
     "text": [
      "{'driver': 'GTiff', 'dtype': 'uint8', 'nodata': None, 'width': 12000, 'height': 12000, 'count': 3, 'crs': CRS.from_epsg(3067), 'transform': Affine(1.0, 0.0, 332000.0,\n",
      "       0.0, -1.0, 6702000.0)}\n",
      "((8848, 10160), (8160, 9600))\n"
     ]
    },
    {
     "data": {
      "text/plain": [
       "<AxesSubplot:>"
      ]
     },
     "execution_count": 37,
     "metadata": {},
     "output_type": "execute_result"
    }
   ],
   "source": [
    "f = r\"c:\\projects\\tram\\data\\pkrasteri\\L4123L.tif\"\n",
    "\n",
    "r = rasterio.open(f, 'r')\n",
    "print(r.meta)\n",
    "#pkras = r.read()\n",
    "window = window_from_extent(bbox, r.transform)\n",
    "print(window)\n",
    "pk = r.read(window=window)\n",
    "#fig, ax = plt.subplots(1,)\n",
    "#show(pkras, transform=r.transform, ax=ax)\n",
    "fig1, ax1 = plt.subplots(1,)\n",
    "show(pk, ax=ax1)"
   ]
  },
  {
   "cell_type": "code",
   "execution_count": 25,
   "id": "394cff2a",
   "metadata": {},
   "outputs": [
    {
     "data": {
      "text/plain": [
       "<AxesSubplot:>"
      ]
     },
     "execution_count": 25,
     "metadata": {},
     "output_type": "execute_result"
    }
   ],
   "source": [
    "fig1,ax1 = plt.subplots(1,)\n",
    "show(vol, transform=r.transform, ax=ax, alpha=0.5)"
   ]
  },
  {
   "cell_type": "code",
   "execution_count": null,
   "id": "09aa5167",
   "metadata": {},
   "outputs": [],
   "source": []
  }
 ],
 "metadata": {
  "kernelspec": {
   "display_name": "Python 3 (Spyder)",
   "language": "python3",
   "name": "python3"
  },
  "language_info": {
   "codemirror_mode": {
    "name": "ipython",
    "version": 3
   },
   "file_extension": ".py",
   "mimetype": "text/x-python",
   "name": "python",
   "nbconvert_exporter": "python",
   "pygments_lexer": "ipython3",
   "version": "3.8.10"
  }
 },
 "nbformat": 4,
 "nbformat_minor": 5
}
